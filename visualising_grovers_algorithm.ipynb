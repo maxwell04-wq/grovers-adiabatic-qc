{
  "nbformat": 4,
  "nbformat_minor": 0,
  "metadata": {
    "colab": {
      "provenance": [],
      "authorship_tag": "ABX9TyOwJ0sm748WwEOAtO3MqDCd",
      "include_colab_link": true
    },
    "kernelspec": {
      "name": "python3",
      "display_name": "Python 3"
    },
    "language_info": {
      "name": "python"
    }
  },
  "cells": [
    {
      "cell_type": "markdown",
      "metadata": {
        "id": "view-in-github",
        "colab_type": "text"
      },
      "source": [
        "<a href=\"https://colab.research.google.com/github/maxwell04-wq/grovers-adiabatic-qc/blob/main/visualising_grovers_algorithm.ipynb\" target=\"_parent\"><img src=\"https://colab.research.google.com/assets/colab-badge.svg\" alt=\"Open In Colab\"/></a>"
      ]
    },
    {
      "cell_type": "code",
      "source": [
        "# !pip3 install -q ColabTurtle\n",
        "!pip install -q latex\n",
        "!sudo apt install -q cm-super dvipng texlive-latex-extra texlive-latex-recommended"
      ],
      "metadata": {
        "colab": {
          "base_uri": "https://localhost:8080/"
        },
        "id": "4Iu6eQDNXvTy",
        "outputId": "a2b0247e-cd92-4dc6-a34b-4b60abbca2c7"
      },
      "execution_count": null,
      "outputs": [
        {
          "output_type": "stream",
          "name": "stdout",
          "text": [
            "Reading package lists...\n",
            "Building dependency tree...\n",
            "Reading state information...\n",
            "cm-super is already the newest version (0.3.4-17).\n",
            "dvipng is already the newest version (1.15-1.1).\n",
            "texlive-latex-extra is already the newest version (2021.20220204-1).\n",
            "texlive-latex-recommended is already the newest version (2021.20220204-1).\n",
            "0 upgraded, 0 newly installed, 0 to remove and 49 not upgraded.\n"
          ]
        }
      ]
    },
    {
      "cell_type": "code",
      "source": [
        "import math\n",
        "import numpy as np\n",
        "import matplotlib.pyplot as plt\n",
        "import matplotlib as mpl\n",
        "mpl.rcParams.update(mpl.rcParamsDefault)\n",
        "\n",
        "plt.rcParams['text.usetex'] = True"
      ],
      "metadata": {
        "id": "77lhi2yVdBAQ"
      },
      "execution_count": null,
      "outputs": []
    },
    {
      "cell_type": "code",
      "execution_count": null,
      "metadata": {
        "colab": {
          "base_uri": "https://localhost:8080/",
          "height": 519
        },
        "id": "ohjdj_BSXNwg",
        "outputId": "eb2794b0-823c-4d1f-e7c7-8026c618759d"
      },
      "outputs": [
        {
          "output_type": "display_data",
          "data": {
            "text/plain": [
              "<Figure size 640x480 with 1 Axes>"
            ],
            "image/png": "[encoded data removed]"
          },
          "metadata": {}
        }
      ],
      "source": [
        "# parameters for Grover's algorithm\n",
        "N = 64\n",
        "M = 1\n",
        "k = 6\n",
        "N_iter = math.floor(np.pi/4*np.sqrt(N/M))\n",
        "\n",
        "if k > N_iter:\n",
        "  state_color = 'r'\n",
        "else:\n",
        "  state_color = 'g'\n",
        "\n",
        "p = 500\n",
        "angle = np.exp(1j * 2 * np.pi / p)\n",
        "angles = np.cumprod(np.ones(p + 1) * angle)\n",
        "x, y = np.real(angles), np.imag(angles)\n",
        "plt.plot(x, y, 'k')\n",
        "\n",
        "# Plot |s>\n",
        "s_angle = np.exp(1j*np.pi/2)\n",
        "s_0 = np.array([0, 1]) * s_angle\n",
        "s_x, s_y = np.real(s_0), np.imag(s_0)\n",
        "plt.plot(s_x, s_y, \"b-\")\n",
        "plt.text(-0.05, 1.1, r'$\\vert s\\rangle$', {'size':12, 'color':'b'})\n",
        "\n",
        "# Plot |ψ0>\n",
        "theta_0 =  math.asin(np.sqrt(M/N))\n",
        "theta = (2*k + 1) * theta_0\n",
        "angle = np.exp(1j*theta)\n",
        "psi_0 = np.array([0, 1]) * angle\n",
        "psi_x, psi_y = np.real(psi_0), np.imag(psi_0)\n",
        "plt.plot(psi_x, psi_y, state_color+\"-\")\n",
        "plt.text(psi_x[1] + math.copysign(0.1, psi_x[1]), psi_y[1] + math.copysign(0.1, psi_y[1]), r'$\\vert\\psi\\rangle$', {'size':12, 'color':state_color})\n",
        "\n",
        "\n",
        "plt.axis('equal')\n",
        "plt.axis('off')\n",
        "plt.title(f\"k={k}\\n N={N}\\n M={M}\\n N_iter={N_iter}\", loc=\"left\", fontsize=20)\n",
        "plt.show()"
      ]
    },
    {
      "cell_type": "code",
      "source": [],
      "metadata": {
        "id": "z-_pEjgbXev2"
      },
      "execution_count": null,
      "outputs": []
    },
    {
      "cell_type": "markdown",
      "source": [
        "## Landau-Zener Transition"
      ],
      "metadata": {
        "id": "wdL3RefBDELu"
      }
    },
    {
      "cell_type": "code",
      "source": [],
      "metadata": {
        "id": "XwBduOLCXjuk"
      },
      "execution_count": null,
      "outputs": []
    }
  ]
}